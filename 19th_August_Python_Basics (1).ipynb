{
 "cells": [
  {
   "cell_type": "markdown",
   "id": "34ddd094-87db-4057-ae03-74f3578f76da",
   "metadata": {},
   "source": [
    "PYTHON BASICS VARIABLE\n",
    "\n",
    "1. Declare two variables, `x` and `y`, and assign them integer values. Swap the\n",
    "values of these variables without using any temporary variable."
   ]
  },
  {
   "cell_type": "code",
   "execution_count": 10,
   "id": "5c0389b5-ab4c-49b5-a4d6-2f0677af0969",
   "metadata": {},
   "outputs": [
    {
     "name": "stdout",
     "output_type": "stream",
     "text": [
      "Before swapping:\n",
      "x = 10\n",
      "y = 20\n",
      "After swapping:\n",
      "x = 20\n",
      "y = 10\n"
     ]
    }
   ],
   "source": [
    "# Declaring two variables and assigning integer values to them\n",
    "x=10  # Example value for x\n",
    "y=20  # Example value for y\n",
    "\n",
    "# Output the original values of x and y\n",
    "print(\"Before swapping:\")\n",
    "print(\"x =\", x)\n",
    "print(\"y =\", y)\n",
    "\n",
    "# Swapping the values without using a temporary variable\n",
    "# This method uses addition and subtraction\n",
    "x =x + y  # x now becomes 30 (10 + 20)\n",
    "y =x - y  # y now becomes 10 (30 - 20)\n",
    "x =x - y  # x now becomes 20 (30 - 10)\n",
    "\n",
    "# Output the swapped values of x and y\n",
    "print(\"After swapping:\")\n",
    "print(\"x =\", x)\n",
    "print(\"y =\", y)"
   ]
  },
  {
   "cell_type": "markdown",
   "id": "1cbbc751-f53c-4afb-8664-d4803090d5c0",
   "metadata": {},
   "source": [
    "2.Create a program that calculates the area of a rectangle. Take the length and\n",
    "width as inputs from the user and store them in variables. Calculate and\n",
    "display the area."
   ]
  },
  {
   "cell_type": "code",
   "execution_count": 11,
   "id": "28c50059-bcf8-4254-b41f-201cd5c58c48",
   "metadata": {},
   "outputs": [
    {
     "name": "stdin",
     "output_type": "stream",
     "text": [
      "Enter the length of the rectangle:  3\n",
      "Enter the width of the rectangle:  2\n"
     ]
    },
    {
     "name": "stdout",
     "output_type": "stream",
     "text": [
      "The area of the rectangle is: 6.0\n"
     ]
    }
   ],
   "source": [
    "# Input: Take the length and width of the rectangle from the user\n",
    "length = float(input(\"Enter the length of the rectangle: \"))  # Convert input to a floating-point number\n",
    "width = float(input(\"Enter the width of the rectangle: \"))    # Convert input to a floating-point number\n",
    "\n",
    "# Calculation: The area of the rectangle is length multiplied by width\n",
    "area = length * width\n",
    "\n",
    "# Output: Display the calculated area of the rectangle\n",
    "print(\"The area of the rectangle is:\",area)"
   ]
  },
  {
   "cell_type": "markdown",
   "id": "00663c80-6257-48a2-ba7d-c16856921890",
   "metadata": {},
   "source": [
    "3. Write a Python program that converts temperatures from Celsius to\n",
    "Fahrenheit. Take the temperature in Celsius as input, store it in a variable,\n",
    "convert it to Fahrenheit, and display the result."
   ]
  },
  {
   "cell_type": "code",
   "execution_count": 1,
   "id": "1d04ec43-252e-4d68-867c-b1a33f78b93c",
   "metadata": {},
   "outputs": [
    {
     "name": "stdin",
     "output_type": "stream",
     "text": [
      "Enter the temperature in Celsius:  34\n"
     ]
    },
    {
     "name": "stdout",
     "output_type": "stream",
     "text": [
      "The temperature in Fahrenheit is: 93.2\n"
     ]
    }
   ],
   "source": [
    "# Input: Take the temperature in celsius from the user\n",
    "\n",
    "celsius = float(input(\"Enter the temperature in Celsius: \"))  # Convert input to a floating-point number\n",
    "\n",
    "# Conversion Formula: Celsius to Fahrenheit\n",
    "# The formula to convert Celsius to Fahrenheit is: F = (C * 9/5) + 32\n",
    "fahrenheit = (celsius * 9/5) + 32\n",
    "\n",
    "# Output: Display the temperature in Fahrenheit\n",
    "print(f\"The temperature in Fahrenheit is: {fahrenheit}\")"
   ]
  },
  {
   "cell_type": "markdown",
   "id": "ae638c3b-b808-4519-8d95-a697fea2788f",
   "metadata": {},
   "source": [
    "STRING BASED QUESTIONS\n",
    "\n",
    "1.Write a Python program that takes a string as input and prints the length of\n",
    "the string."
   ]
  },
  {
   "cell_type": "code",
   "execution_count": 2,
   "id": "cf472cb3-c337-4583-a37f-cd4a60beb3f1",
   "metadata": {},
   "outputs": [
    {
     "name": "stdin",
     "output_type": "stream",
     "text": [
      "Enter a string:  er\n"
     ]
    },
    {
     "name": "stdout",
     "output_type": "stream",
     "text": [
      "The length of the string is: 2\n"
     ]
    }
   ],
   "source": [
    "# Input: Take a string from the user\n",
    "user_input = input(\"Enter a string: \")  # The input() function takes the string as input from the user\n",
    "\n",
    "# Calculate the length of the string using len() function\n",
    "string_length = len(user_input)\n",
    "\n",
    "# Output: Display the length of the string\n",
    "print(f\"The length of the string is: {string_length}\")"
   ]
  },
  {
   "cell_type": "markdown",
   "id": "dda05efd-2ca6-40e2-88dc-e817e315dd93",
   "metadata": {},
   "source": [
    "2. Create a program that takes a sentence from the user and counts the number\n",
    "of vowels (a, e, i, o, u) in the string."
   ]
  },
  {
   "cell_type": "code",
   "execution_count": 3,
   "id": "b6545dd8-34ad-4ffd-b58a-a1d1cda1d046",
   "metadata": {},
   "outputs": [
    {
     "name": "stdin",
     "output_type": "stream",
     "text": [
      "Enter a sentence:  he is good boy\n"
     ]
    },
    {
     "name": "stdout",
     "output_type": "stream",
     "text": [
      "The number of vowels in the sentence is: 5\n"
     ]
    }
   ],
   "source": [
    "# Input: Take a sentence from the user\n",
    "sentence = input(\"Enter a sentence: \")  # The input() function takes the sentence as input from the user\n",
    "\n",
    "# Initialize a variable to store the count of vowels\n",
    "vowel_count = 0\n",
    "\n",
    "# Define a string containing all the vowels (both lowercase and uppercase)\n",
    "vowels = \"aeiouAEIOU\"\n",
    "\n",
    "# Loop through each character in the sentence\n",
    "for char in sentence:\n",
    "    # Check if the character is a vowel\n",
    "    if char in vowels:\n",
    "        vowel_count += 1  # Increment the vowel count by 1 if the character is a vowel\n",
    "\n",
    "# Output: Display the total number of vowels in the sentence\n",
    "print(f\"The number of vowels in the sentence is: {vowel_count}\")"
   ]
  },
  {
   "cell_type": "markdown",
   "id": "6caf419d-80b6-4240-a945-312d4ecb2976",
   "metadata": {},
   "source": [
    "3. Given a string, reverse the order of characters using string slicing and print\n",
    "the reversed string."
   ]
  },
  {
   "cell_type": "code",
   "execution_count": 1,
   "id": "385c0a32-41fd-4f9b-8ca3-d6bafffe5cf2",
   "metadata": {},
   "outputs": [
    {
     "name": "stdin",
     "output_type": "stream",
     "text": [
      "Enter a string:  nandish\n"
     ]
    },
    {
     "name": "stdout",
     "output_type": "stream",
     "text": [
      "The reversed string is: hsidnan\n"
     ]
    }
   ],
   "source": [
    "# Input: Take a string from the user\n",
    "user_input = input(\"Enter a string: \")  # The input() function takes the string as input from the user\n",
    "\n",
    "# String slicing to reverse the string\n",
    "# Syntax for slicing: string[start:end:step]\n",
    "# When step = -1, it reverses the string\n",
    "reversed_string = user_input[::-1]\n",
    "\n",
    "# Output: Display the reversed string\n",
    "print(f\"The reversed string is: {reversed_string}\")"
   ]
  },
  {
   "cell_type": "markdown",
   "id": "ecd428f8-e2d7-45b4-bc9b-8407f9eb891c",
   "metadata": {},
   "source": [
    "4.Write a program that takes a string as input and checks if it is a palindrome"
   ]
  },
  {
   "cell_type": "code",
   "execution_count": 3,
   "id": "c4a49a1c-9fe9-4370-9e27-4ca88cd1cfa0",
   "metadata": {},
   "outputs": [
    {
     "name": "stdin",
     "output_type": "stream",
     "text": [
      "Enter a string:  nan\n"
     ]
    },
    {
     "name": "stdout",
     "output_type": "stream",
     "text": [
      "'nan' is a palindrome.\n"
     ]
    }
   ],
   "source": [
    "# Input: Take a string from the user\n",
    "user_input = input(\"Enter a string: \")  # The input() function takes the string as input from the user\n",
    "\n",
    "# Remove any spaces and convert the string to lowercase for uniformity\n",
    "processed_string = user_input.replace(\" \", \"\").lower()\n",
    "\n",
    "# Check if the string is equal to its reverse using string slicing\n",
    "# If the string is equal to its reverse, it's a palindrome\n",
    "if processed_string == processed_string[::-1]:\n",
    "    print(f\"'{user_input}' is a palindrome.\")\n",
    "else:\n",
    "    print(f\"'{user_input}' is not a palindrome.\")"
   ]
  },
  {
   "cell_type": "markdown",
   "id": "d2524618-e818-4197-9068-8fd2b75ceb9d",
   "metadata": {},
   "source": [
    "5.Create a program that takes a string as input and removes all the spaces from\n",
    "it. Print the modified string without spaces."
   ]
  },
  {
   "cell_type": "code",
   "execution_count": 4,
   "id": "f6d54bcd-0f90-417f-b150-48d437e79767",
   "metadata": {},
   "outputs": [
    {
     "name": "stdin",
     "output_type": "stream",
     "text": [
      "Enter a string:  hi how are you\n"
     ]
    },
    {
     "name": "stdout",
     "output_type": "stream",
     "text": [
      "The string without spaces is: 'hihowareyou'\n"
     ]
    }
   ],
   "source": [
    "# Input: Take a string from the user\n",
    "user_input = input(\"Enter a string: \")  # The input() function takes the string as input from the user\n",
    "\n",
    "# Use the replace() method to remove all spaces by replacing them with an empty string\n",
    "modified_string = user_input.replace(\" \", \"\")\n",
    "\n",
    "# Output: Display the modified string without spaces\n",
    "print(f\"The string without spaces is: '{modified_string}'\")"
   ]
  },
  {
   "cell_type": "code",
   "execution_count": null,
   "id": "7fd8d862-ad42-4785-90ce-5f3bf8f799fc",
   "metadata": {},
   "outputs": [],
   "source": []
  }
 ],
 "metadata": {
  "kernelspec": {
   "display_name": "Python 3 (ipykernel)",
   "language": "python",
   "name": "python3"
  },
  "language_info": {
   "codemirror_mode": {
    "name": "ipython",
    "version": 3
   },
   "file_extension": ".py",
   "mimetype": "text/x-python",
   "name": "python",
   "nbconvert_exporter": "python",
   "pygments_lexer": "ipython3",
   "version": "3.10.8"
  }
 },
 "nbformat": 4,
 "nbformat_minor": 5
}
